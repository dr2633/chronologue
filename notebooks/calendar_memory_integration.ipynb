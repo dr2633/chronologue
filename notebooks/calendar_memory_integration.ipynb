{
 "cells": [
  {
   "cell_type": "markdown",
   "metadata": {},
   "source": [
    "## Conversation History Memory Integration with Calendars\n",
    "\n",
    "**Derek Rosenzweig** \n",
    "\n",
    "This notebook converts structured memory traces (stored as `.json`) into `.ics` calendar files, enabling users to visualize and revisit key events — particularly conversation history with language models — within their preferred calendar tools (Apple Calendar, Google Calendar, Outlook). The goal is to make memory traces both queryable and actionable by aligning them with familiar, time-based interfaces that users trust and regularly engage with.\n",
    "\n",
    "##### Use Cases for Calendar-Based Memory \n",
    "\n",
    "By ingesting .ics files from tools like Google Calendar or Apple Calendar, agents can:\n",
    "\n",
    "- Ground responses in the user’s actual schedule and historical events\n",
    "\n",
    "- Retrieve relevant context by aligning timestamps and event metadata\n",
    "\n",
    "- Prioritize upcoming tasks or recall previous interactions based on calendar entries\n",
    "\n",
    "This workflow supports persistent, time-aware context grounding—enabling language models to condition their outputs based on the user's routines, workflows, and conversation history.\n",
    "\n",
    "##### What This Example Covers \n",
    "\n",
    "- Represent memory traces (ie. conversation history) in structured `.json`\n",
    "- Converting traces into `.ics` format for calendar input \n",
    "- Visualizing `.ics` in familiar calendar interfaces \n",
    "- Use cases for planning, agent orchestration, and scheduling"
   ]
  },
  {
   "cell_type": "markdown",
   "metadata": {},
   "source": []
  },
  {
   "cell_type": "code",
   "execution_count": 10,
   "metadata": {},
   "outputs": [
    {
     "ename": "AssertionError",
     "evalue": "Missing Google credentials path",
     "output_type": "error",
     "traceback": [
      "\u001b[0;31m---------------------------------------------------------------------------\u001b[0m",
      "\u001b[0;31mAssertionError\u001b[0m                            Traceback (most recent call last)",
      "Cell \u001b[0;32mIn[10], line 11\u001b[0m\n\u001b[1;32m      8\u001b[0m GOOGLE_CREDENTIALS_PATH \u001b[38;5;241m=\u001b[39m os\u001b[38;5;241m.\u001b[39mgetenv(\u001b[38;5;124m\"\u001b[39m\u001b[38;5;124mGOOGLE_CREDENTIALS_PATH\u001b[39m\u001b[38;5;124m\"\u001b[39m)  \u001b[38;5;66;03m# e.g., \"calendar/credentials.json\"\u001b[39;00m\n\u001b[1;32m      9\u001b[0m OPENAI_API_KEY \u001b[38;5;241m=\u001b[39m os\u001b[38;5;241m.\u001b[39mgetenv(\u001b[38;5;124m\"\u001b[39m\u001b[38;5;124mOPENAI_API_KEY\u001b[39m\u001b[38;5;124m\"\u001b[39m)  \u001b[38;5;66;03m# For later use, if needed\u001b[39;00m\n\u001b[0;32m---> 11\u001b[0m \u001b[38;5;28;01massert\u001b[39;00m GOOGLE_CREDENTIALS_PATH \u001b[38;5;129;01mis\u001b[39;00m \u001b[38;5;129;01mnot\u001b[39;00m \u001b[38;5;28;01mNone\u001b[39;00m, \u001b[38;5;124m\"\u001b[39m\u001b[38;5;124mMissing Google credentials path\u001b[39m\u001b[38;5;124m\"\u001b[39m\n",
      "\u001b[0;31mAssertionError\u001b[0m: Missing Google credentials path"
     ]
    }
   ],
   "source": [
    "from pathlib import Path\n",
    "import os\n",
    "from dotenv import load_dotenv\n",
    "\n",
    "# Load environment variables from .env\n",
    "load_dotenv(dotenv_path=Path(\".env\"))\n",
    "\n",
    "GOOGLE_CREDENTIALS_PATH = os.getenv(\"GOOGLE_CREDENTIALS_PATH\")  # e.g., \"calendar/credentials.json\"\n",
    "OPENAI_API_KEY = os.getenv(\"OPENAI_API_KEY\")  # For later use, if needed\n",
    "\n",
    "assert GOOGLE_CREDENTIALS_PATH is not None, \"Missing Google credentials path\"\n"
   ]
  },
  {
   "cell_type": "markdown",
   "metadata": {},
   "source": [
    "\n",
    "### 1. Define Memory Traces from Conversation History \n",
    "\n",
    "Each trace is a timestamped unit of memory (goal, reflection, event) with fields for content, title, location, importance, and more.\n"
   ]
  },
  {
   "cell_type": "code",
   "execution_count": 4,
   "metadata": {},
   "outputs": [
    {
     "name": "stdout",
     "output_type": "stream",
     "text": [
      "{'user_id': 'derek_dev', 'session_id': 'cookbook_walkthrough', 'memory': [{'id': 'm101', 'type': 'goal', 'timestamp': '2025-04-10T08:30:00Z', 'title': 'Design JSON Schema for Memory Traces', 'content': 'Finalize the structured schema to capture conversation goals, reflections, and observations.', 'location': 'SF Office'}, {'id': 'm102', 'type': 'reflection', 'timestamp': '2025-04-12T15:00:00Z', 'title': 'Initial Demo Success', 'content': 'Successfully generated ICS from memory traces and confirmed Apple Calendar compatibility.', 'location': 'Remote Workspace'}, {'id': 'm103', 'type': 'goal', 'timestamp': '2025-04-13T10:15:00Z', 'title': 'Send Cookbook to Collaborators', 'content': 'Package and share demo with OpenAI and Google collaborators for feedback.'}]}\n"
     ]
    }
   ],
   "source": [
    "# Example conversation history memory traces \n",
    "\n",
    "memory_traces = {\n",
    "    \"user_id\": \"derek_dev\",\n",
    "    \"session_id\": \"cookbook_walkthrough\",\n",
    "    \"memory\": [\n",
    "        {\n",
    "            \"id\": \"m101\",\n",
    "            \"type\": \"goal\",\n",
    "            \"timestamp\": \"2025-04-10T08:30:00Z\",\n",
    "            \"title\": \"Design JSON Schema for Memory Traces\",\n",
    "            \"content\": \"Finalize the structured schema to capture conversation goals, reflections, and observations.\",\n",
    "            \"location\": \"SF Office\"\n",
    "        },\n",
    "        {\n",
    "            \"id\": \"m102\",\n",
    "            \"type\": \"reflection\",\n",
    "            \"timestamp\": \"2025-04-12T15:00:00Z\",\n",
    "            \"title\": \"Initial Demo Success\",\n",
    "            \"content\": \"Successfully generated ICS from memory traces and confirmed Apple Calendar compatibility.\",\n",
    "            \"location\": \"Remote Workspace\"\n",
    "        },\n",
    "        {\n",
    "            \"id\": \"m103\",\n",
    "            \"type\": \"goal\",\n",
    "            \"timestamp\": \"2025-04-13T10:15:00Z\",\n",
    "            \"title\": \"Send Cookbook to Collaborators\",\n",
    "            \"content\": \"Package and share demo with OpenAI and Google collaborators for feedback.\"\n",
    "        }\n",
    "    ]\n",
    "}\n",
    "\n",
    "print(memory_traces)"
   ]
  },
  {
   "cell_type": "markdown",
   "metadata": {},
   "source": [
    "### 2. Convert JSON to `.ics`\n",
    "\n",
    "This function converts each trace to a valid calendar event.\n",
    "\n",
    "See ICS formatting standards"
   ]
  },
  {
   "cell_type": "code",
   "execution_count": 7,
   "metadata": {},
   "outputs": [
    {
     "name": "stdout",
     "output_type": "stream",
     "text": [
      "Converting memory traces to iCalendar format...\n",
      "Testing datetime_to_ics function:\n",
      "Original timestamp: 2025-04-10T08:30:00Z\n",
      "Converted to iCalendar format: 20250410T083000Z\n",
      "\n",
      "Original timestamp: 2025-04-12T15:00:00Z\n",
      "Converted to iCalendar format: 20250412T150000Z\n",
      "\n",
      "Original timestamp: 2025-04-13T10:15:00Z\n",
      "Converted to iCalendar format: 20250413T101500Z\n",
      "\n",
      "Testing generate_ics_string function:\n",
      "Memory Trace ID: m101\n",
      "Generated iCalendar Event:\n",
      "BEGIN:VEVENT\n",
      "UID:m101@memorysystem.ai\n",
      "DTSTAMP:20250410T083000Z\n",
      "DTSTART:20250410T083000Z\n",
      "DTEND:20250410T084500Z\n",
      "SUMMARY:Design JSON Schema for Memory Traces\n",
      "DESCRIPTION:Finalize the structured schema to capture conversation goals, reflections, and observations.\n",
      "LOCATION:SF Office\n",
      "STATUS:CONFIRMED\n",
      "END:VEVENT\n",
      "\n",
      "\n",
      "----------------------------------------\n",
      "\n",
      "Memory Trace ID: m102\n",
      "Generated iCalendar Event:\n",
      "BEGIN:VEVENT\n",
      "UID:m102@memorysystem.ai\n",
      "DTSTAMP:20250412T150000Z\n",
      "DTSTART:20250412T150000Z\n",
      "DTEND:20250412T151500Z\n",
      "SUMMARY:Initial Demo Success\n",
      "DESCRIPTION:Successfully generated ICS from memory traces and confirmed Apple Calendar compatibility.\n",
      "LOCATION:Remote Workspace\n",
      "STATUS:CONFIRMED\n",
      "END:VEVENT\n",
      "\n",
      "\n",
      "----------------------------------------\n",
      "\n",
      "Memory Trace ID: m103\n",
      "Generated iCalendar Event:\n",
      "BEGIN:VEVENT\n",
      "UID:m103@memorysystem.ai\n",
      "DTSTAMP:20250413T101500Z\n",
      "DTSTART:20250413T101500Z\n",
      "DTEND:20250413T103000Z\n",
      "SUMMARY:Send Cookbook to Collaborators\n",
      "DESCRIPTION:Package and share demo with OpenAI and Google collaborators for feedback.\n",
      "LOCATION:\n",
      "STATUS:CONFIRMED\n",
      "END:VEVENT\n",
      "\n",
      "\n",
      "----------------------------------------\n",
      "\n",
      "iCalendar file 'calendar_memory_demo.ics' has been created.\n",
      "The iCalendar content is also stored in the 'ics_content' variable for later use.\n"
     ]
    }
   ],
   "source": [
    "from datetime import datetime, timedelta\n",
    "\n",
    "# Function to convert ISO datetime to iCalendar format\n",
    "def datetime_to_ics(dt: str) -> str:\n",
    "    \"\"\"Convert ISO 8601 datetime string to iCalendar format.\"\"\"\n",
    "    return datetime.fromisoformat(dt.replace(\"Z\", \"+00:00\")).strftime(\"%Y%m%dT%H%M%SZ\")\n",
    "\n",
    "# Function to generate iCalendar event string from a memory trace\n",
    "def generate_ics_string(trace: dict) -> str:\n",
    "    \"\"\"\n",
    "    Convert a memory trace to iCalendar event format.\n",
    "    \n",
    "    Parameters:\n",
    "    - trace: A dictionary containing memory trace data with fields:\n",
    "        - id: Unique identifier for the memory\n",
    "        - timestamp: ISO 8601 datetime string\n",
    "        - title: Event title\n",
    "        - content: Detailed description\n",
    "        - location: Optional location string\n",
    "    \n",
    "    Returns:\n",
    "    - String in iCalendar VEVENT format\n",
    "    \"\"\"\n",
    "    start_dt = datetime.fromisoformat(trace[\"timestamp\"].replace(\"Z\", \"+00:00\"))\n",
    "    end_dt = start_dt + timedelta(minutes=15)  # Default 15-minute duration\n",
    "\n",
    "    summary = trace[\"title\"]\n",
    "    description = trace[\"content\"]\n",
    "    location = trace.get(\"location\", \"\")\n",
    "    uid = f\"{trace['id']}@memorysystem.ai\"\n",
    "\n",
    "    return f\"\"\"BEGIN:VEVENT\n",
    "UID:{uid}\n",
    "DTSTAMP:{datetime_to_ics(trace['timestamp'])}\n",
    "DTSTART:{datetime_to_ics(trace['timestamp'])}\n",
    "DTEND:{datetime_to_ics(end_dt.isoformat())}\n",
    "SUMMARY:{summary}\n",
    "DESCRIPTION:{description}\n",
    "LOCATION:{location}\n",
    "STATUS:CONFIRMED\n",
    "END:VEVENT\n",
    "\"\"\"\n",
    "\n",
    "# Process all memory traces and convert to iCalendar events\n",
    "print(\"Converting memory traces to iCalendar format...\")\n",
    "ics_events = [generate_ics_string(trace) for trace in memory_traces[\"memory\"]]\n",
    "\n",
    "# Create the complete iCalendar content as a string variable for later use\n",
    "ics_content = \"BEGIN:VCALENDAR\\nVERSION:2.0\\nPRODID:-//MemorySystem//EN\\n\"\n",
    "ics_content += \"\".join(ics_events)\n",
    "ics_content += \"END:VCALENDAR\"\n",
    "\n",
    "# Write the content to a file\n",
    "with open(\"calendar_memory_demo.ics\", \"w\") as f:\n",
    "    f.write(ics_content)\n",
    "\n",
    "# Test and print the output of the functions\n",
    "print(\"Testing datetime_to_ics function:\")\n",
    "for trace in memory_traces[\"memory\"]:\n",
    "    print(f\"Original timestamp: {trace['timestamp']}\")\n",
    "    print(f\"Converted to iCalendar format: {datetime_to_ics(trace['timestamp'])}\\n\")\n",
    "\n",
    "print(\"Testing generate_ics_string function:\")\n",
    "for trace in memory_traces[\"memory\"]:\n",
    "    ics_string = generate_ics_string(trace)\n",
    "    print(f\"Memory Trace ID: {trace['id']}\")\n",
    "    print(\"Generated iCalendar Event:\")\n",
    "    print(ics_string)\n",
    "    print(\"\\n\" + \"-\"*40 + \"\\n\")\n",
    "\n",
    "print(\"iCalendar file 'calendar_memory_demo.ics' has been created.\")\n",
    "print(\"The iCalendar content is also stored in the 'ics_content' variable for later use.\")"
   ]
  },
  {
   "cell_type": "code",
   "execution_count": 9,
   "metadata": {},
   "outputs": [
    {
     "data": {
      "text/plain": [
       "'BEGIN:VCALENDAR\\nVERSION:2.0\\nPRODID:-//MemorySystem//EN\\nBEGIN:VEVENT\\nUID:m101@memorysystem.ai\\nDTSTAMP:20250410T083000Z\\nDTSTART:20250410T083000Z\\nDTEND:20250410T084500Z\\nSUMMARY:Design JSON Schema for Memory Traces\\nDESCRIPTION:Finalize the structured schema to capture conversation goals, reflections, and observations.\\nLOCATION:SF Office\\nSTATUS:CONFIRMED\\nEND:VEVENT\\nBEGIN:VEVENT\\nUID:m102@memorysystem.ai\\nDTSTAMP:20250412T150000Z\\nDTSTART:20250412T150000Z\\nDTEND:20250412T151500Z\\nSUMMARY:Initial Demo Success\\nDESCRIPTION:Successfully generated ICS from memory traces and confirmed Apple Calendar compatibility.\\nLOCATION:Remote Workspace\\nSTATUS:CONFIRMED\\nEND:VEVENT\\nBEGIN:VEVENT\\nUID:m103@memorysystem.ai\\nDTSTAMP:20250413T101500Z\\nDTSTART:20250413T101500Z\\nDTEND:20250413T103000Z\\nSUMMARY:Send Cookbook to Collaborators\\nDESCRIPTION:Package and share demo with OpenAI and Google collaborators for feedback.\\nLOCATION:\\nSTATUS:CONFIRMED\\nEND:VEVENT\\nEND:VCALENDAR'"
      ]
     },
     "execution_count": 9,
     "metadata": {},
     "output_type": "execute_result"
    }
   ],
   "source": [
    "ics_content "
   ]
  },
  {
   "cell_type": "code",
   "execution_count": null,
   "metadata": {},
   "outputs": [],
   "source": []
  }
 ],
 "metadata": {
  "kernelspec": {
   "display_name": ".venv",
   "language": "python",
   "name": "python3"
  },
  "language_info": {
   "codemirror_mode": {
    "name": "ipython",
    "version": 3
   },
   "file_extension": ".py",
   "mimetype": "text/x-python",
   "name": "python",
   "nbconvert_exporter": "python",
   "pygments_lexer": "ipython3",
   "version": "3.12.3"
  }
 },
 "nbformat": 4,
 "nbformat_minor": 2
}
